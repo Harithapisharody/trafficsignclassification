{
  "cells": [
    {
      "cell_type": "markdown",
      "metadata": {
        "id": "view-in-github",
        "colab_type": "text"
      },
      "source": [
        "<a href=\"https://colab.research.google.com/github/Harithapisharody/trafficsignclassification/blob/main/inceptionV3.ipynb\" target=\"_parent\"><img src=\"https://colab.research.google.com/assets/colab-badge.svg\" alt=\"Open In Colab\"/></a>"
      ]
    },
    {
      "cell_type": "code",
      "execution_count": 1,
      "metadata": {
        "colab": {
          "base_uri": "https://localhost:8080/"
        },
        "id": "ELhVcqrRQRp6",
        "outputId": "7c45fa91-efe6-4f31-e380-734e3cfc47c5"
      },
      "outputs": [
        {
          "output_type": "stream",
          "name": "stdout",
          "text": [
            "Drive already mounted at /content/drive; to attempt to forcibly remount, call drive.mount(\"/content/drive\", force_remount=True).\n"
          ]
        }
      ],
      "source": [
        "from google.colab import drive\n",
        "\n",
        "# Mount Google Drive\n",
        "drive.mount('/content/drive')\n"
      ]
    },
    {
      "cell_type": "code",
      "execution_count": 2,
      "metadata": {
        "id": "3yqd_QQNSvl2"
      },
      "outputs": [],
      "source": [
        "# Importing Libraries\n",
        "from tensorflow import keras\n",
        "from tensorflow.keras.applications.inception_v3 import InceptionV3\n",
        "from tensorflow.keras.preprocessing.image import ImageDataGenerator\n",
        "from tensorflow.keras.layers import Dense, GlobalAveragePooling2D\n",
        "from tensorflow.keras.models import Model\n",
        "from tensorflow.keras.optimizers import Adam\n",
        "\n",
        "import os\n",
        "import cv2\n",
        "import PIL.Image\n",
        "import numpy as np\n",
        "import tensorflow as tf\n",
        "import pickle\n",
        "import matplotlib.pyplot as plt"
      ]
    },
    {
      "cell_type": "markdown",
      "metadata": {
        "id": "MpGRp1OVeyCB"
      },
      "source": [
        "set path to dataset"
      ]
    },
    {
      "cell_type": "code",
      "execution_count": 3,
      "metadata": {
        "id": "_0oPUSQee5cc"
      },
      "outputs": [],
      "source": [
        "train_dir='/content/drive/MyDrive/newtrafficsign/train'\n",
        "validation_dir='/content/drive/MyDrive/newtrafficsign/test'"
      ]
    },
    {
      "cell_type": "markdown",
      "metadata": {
        "id": "oEygfqtgfTin"
      },
      "source": [
        "setting the parameters"
      ]
    },
    {
      "cell_type": "code",
      "execution_count": 4,
      "metadata": {
        "id": "7bNB7H19fXUY"
      },
      "outputs": [],
      "source": [
        "num_classes=85\n",
        "image_size=(299,299)\n",
        "batch_size=32\n",
        "learning_rate=0.001\n",
        "epochs=10"
      ]
    },
    {
      "cell_type": "markdown",
      "metadata": {
        "id": "4RqlYkoJghbg"
      },
      "source": [
        "preprocessing and augment the training data"
      ]
    },
    {
      "cell_type": "code",
      "execution_count": 5,
      "metadata": {
        "id": "Bw_i2fJogrgQ"
      },
      "outputs": [],
      "source": [
        "train_datagen=ImageDataGenerator(\n",
        "                 horizontal_flip=True,\n",
        "                #  vertical_flip=True,\n",
        "                 rescale=1. / 255,\n",
        "                #  validation_split=0.1,\n",
        "                 shear_range=0.2,\n",
        "                 zoom_range=0.2,\n",
        "                #  width_shift_range=0.1,\n",
        "                #  height_shift_range=0.1,\n",
        "                #  rotation_range=30,\n",
        ")"
      ]
    },
    {
      "cell_type": "markdown",
      "metadata": {
        "id": "h1PRO43dhnpG"
      },
      "source": [
        "preprocess the validation data"
      ]
    },
    {
      "cell_type": "code",
      "execution_count": 6,
      "metadata": {
        "id": "2A3i3JEshudi"
      },
      "outputs": [],
      "source": [
        "valid_datagen=ImageDataGenerator(rescale=1 / 255,\n",
        "                                # validation_split=0.1,\n",
        "                                 )"
      ]
    },
    {
      "cell_type": "markdown",
      "metadata": {
        "id": "SVcMP1npiCvt"
      },
      "source": [
        "load the InceptionV3 model"
      ]
    },
    {
      "cell_type": "code",
      "execution_count": 7,
      "metadata": {
        "id": "fwkIarkqiHyI"
      },
      "outputs": [],
      "source": [
        "# Initializing InceptionV3 (pretrained) model with input image shape\n",
        "base_model = InceptionV3(weights='imagenet', include_top=False, input_shape=(image_size[0],image_size[1],3))\n"
      ]
    },
    {
      "cell_type": "markdown",
      "metadata": {
        "id": "ybNEgLgajuaI"
      },
      "source": [
        "adding the additional top layer for the model"
      ]
    },
    {
      "cell_type": "code",
      "execution_count": 8,
      "metadata": {
        "id": "5ske59zAjPc3"
      },
      "outputs": [],
      "source": [
        "x=base_model.output\n",
        "x=GlobalAveragePooling2D()(x)\n",
        "x=Dense(1024,activation='relu')(x)\n",
        "predictions=Dense(num_classes,activation='softmax')(x)"
      ]
    },
    {
      "cell_type": "markdown",
      "metadata": {
        "id": "UUmN0MWgj_VK"
      },
      "source": [
        "combine base model with  top layer"
      ]
    },
    {
      "cell_type": "code",
      "execution_count": 9,
      "metadata": {
        "id": "K6mwhMm5kEXV"
      },
      "outputs": [],
      "source": [
        "model=Model(inputs=base_model.input,outputs=predictions)"
      ]
    },
    {
      "cell_type": "markdown",
      "metadata": {
        "id": "C8R1PE7CkW5G"
      },
      "source": [
        "Freeze the layers in base model"
      ]
    },
    {
      "cell_type": "code",
      "execution_count": 10,
      "metadata": {
        "id": "tXCFfyYBkaIM"
      },
      "outputs": [],
      "source": [
        "for layer in base_model.layers:\n",
        "  layer.trainable=False"
      ]
    },
    {
      "cell_type": "markdown",
      "metadata": {
        "id": "PzzyFgxfk_mZ"
      },
      "source": [
        "compile the model"
      ]
    },
    {
      "cell_type": "code",
      "execution_count": 11,
      "metadata": {
        "id": "gwhL0Z0slBlx"
      },
      "outputs": [],
      "source": [
        "model.compile(optimizer=Adam(learning_rate=learning_rate),loss='categorical_crossentropy',metrics=['accuracy'])"
      ]
    },
    {
      "cell_type": "markdown",
      "metadata": {
        "id": "DYy3tO2Gld0U"
      },
      "source": [
        "generate the training and validation data from directories"
      ]
    },
    {
      "cell_type": "code",
      "execution_count": 12,
      "metadata": {
        "colab": {
          "base_uri": "https://localhost:8080/"
        },
        "id": "V9D-8wzKlkgC",
        "outputId": "9baf29f8-36a0-4cb5-b824-8779e95b2eac"
      },
      "outputs": [
        {
          "output_type": "stream",
          "name": "stdout",
          "text": [
            "Found 4438 images belonging to 85 classes.\n",
            "Found 1288 images belonging to 85 classes.\n"
          ]
        }
      ],
      "source": [
        "\n",
        "train_generator=train_datagen.flow_from_directory(\n",
        "    train_dir,\n",
        "    target_size=image_size,\n",
        "    batch_size=batch_size,\n",
        "    class_mode='categorical'\n",
        ")\n",
        "\n",
        "valid_generator=valid_datagen.flow_from_directory(\n",
        "    validation_dir,\n",
        "    target_size=image_size,\n",
        "    batch_size=batch_size,\n",
        "    class_mode='categorical'\n",
        ")"
      ]
    },
    {
      "cell_type": "markdown",
      "metadata": {
        "id": "tHeBQkkVmzgw"
      },
      "source": [
        "train the model"
      ]
    },
    {
      "cell_type": "code",
      "execution_count": null,
      "metadata": {
        "colab": {
          "base_uri": "https://localhost:8080/"
        },
        "id": "HckODiZMkefI",
        "outputId": "1927e873-a40e-4940-cf66-6e7d14119d39"
      },
      "outputs": [
        {
          "output_type": "stream",
          "name": "stdout",
          "text": [
            "Epoch 1/10\n",
            " 20/138 [===>..........................] - ETA: 32:42 - loss: 3.6551 - accuracy: 0.1953"
          ]
        }
      ],
      "source": [
        "history=model.fit(\n",
        "    train_generator,\n",
        "    steps_per_epoch=train_generator.n // batch_size,\n",
        "    epochs=epochs,\n",
        "    validation_data=valid_generator,\n",
        "    validation_steps=valid_generator.n// batch_size\n",
        ")"
      ]
    },
    {
      "cell_type": "markdown",
      "metadata": {
        "id": "tjRwsTJvnz39"
      },
      "source": [
        "save the trained model"
      ]
    },
    {
      "cell_type": "code",
      "execution_count": null,
      "metadata": {
        "colab": {
          "base_uri": "https://localhost:8080/"
        },
        "id": "IbxZJuqon3ln",
        "outputId": "3c41e9af-387f-4896-d6d9-ab4004378012"
      },
      "outputs": [
        {
          "name": "stderr",
          "output_type": "stream",
          "text": [
            "/usr/local/lib/python3.10/dist-packages/keras/src/engine/training.py:3103: UserWarning: You are saving your model as an HDF5 file via `model.save()`. This file format is considered legacy. We recommend using instead the native Keras format, e.g. `model.save('my_model.keras')`.\n",
            "  saving_api.save_model(\n"
          ]
        }
      ],
      "source": [
        "model.save('/content/drive/MyDrive/inceptionv3_model.h5')"
      ]
    },
    {
      "cell_type": "markdown",
      "metadata": {
        "id": "phUaqt4Lu2rS"
      },
      "source": [
        "Testing the Model"
      ]
    },
    {
      "cell_type": "code",
      "execution_count": 10,
      "metadata": {
        "colab": {
          "base_uri": "https://localhost:8080/",
          "height": 522
        },
        "id": "329CDoIiu0CT",
        "outputId": "edd16995-f0fb-47f7-ea1b-4ef1b18c43ec"
      },
      "outputs": [
        {
          "output_type": "display_data",
          "data": {
            "text/plain": [
              "<IPython.core.display.HTML object>"
            ],
            "text/html": [
              "\n",
              "     <input type=\"file\" id=\"files-c7cdd6a0-017a-4744-8da4-d97a95fbb8f6\" name=\"files[]\" multiple disabled\n",
              "        style=\"border:none\" />\n",
              "     <output id=\"result-c7cdd6a0-017a-4744-8da4-d97a95fbb8f6\">\n",
              "      Upload widget is only available when the cell has been executed in the\n",
              "      current browser session. Please rerun this cell to enable.\n",
              "      </output>\n",
              "      <script>// Copyright 2017 Google LLC\n",
              "//\n",
              "// Licensed under the Apache License, Version 2.0 (the \"License\");\n",
              "// you may not use this file except in compliance with the License.\n",
              "// You may obtain a copy of the License at\n",
              "//\n",
              "//      http://www.apache.org/licenses/LICENSE-2.0\n",
              "//\n",
              "// Unless required by applicable law or agreed to in writing, software\n",
              "// distributed under the License is distributed on an \"AS IS\" BASIS,\n",
              "// WITHOUT WARRANTIES OR CONDITIONS OF ANY KIND, either express or implied.\n",
              "// See the License for the specific language governing permissions and\n",
              "// limitations under the License.\n",
              "\n",
              "/**\n",
              " * @fileoverview Helpers for google.colab Python module.\n",
              " */\n",
              "(function(scope) {\n",
              "function span(text, styleAttributes = {}) {\n",
              "  const element = document.createElement('span');\n",
              "  element.textContent = text;\n",
              "  for (const key of Object.keys(styleAttributes)) {\n",
              "    element.style[key] = styleAttributes[key];\n",
              "  }\n",
              "  return element;\n",
              "}\n",
              "\n",
              "// Max number of bytes which will be uploaded at a time.\n",
              "const MAX_PAYLOAD_SIZE = 100 * 1024;\n",
              "\n",
              "function _uploadFiles(inputId, outputId) {\n",
              "  const steps = uploadFilesStep(inputId, outputId);\n",
              "  const outputElement = document.getElementById(outputId);\n",
              "  // Cache steps on the outputElement to make it available for the next call\n",
              "  // to uploadFilesContinue from Python.\n",
              "  outputElement.steps = steps;\n",
              "\n",
              "  return _uploadFilesContinue(outputId);\n",
              "}\n",
              "\n",
              "// This is roughly an async generator (not supported in the browser yet),\n",
              "// where there are multiple asynchronous steps and the Python side is going\n",
              "// to poll for completion of each step.\n",
              "// This uses a Promise to block the python side on completion of each step,\n",
              "// then passes the result of the previous step as the input to the next step.\n",
              "function _uploadFilesContinue(outputId) {\n",
              "  const outputElement = document.getElementById(outputId);\n",
              "  const steps = outputElement.steps;\n",
              "\n",
              "  const next = steps.next(outputElement.lastPromiseValue);\n",
              "  return Promise.resolve(next.value.promise).then((value) => {\n",
              "    // Cache the last promise value to make it available to the next\n",
              "    // step of the generator.\n",
              "    outputElement.lastPromiseValue = value;\n",
              "    return next.value.response;\n",
              "  });\n",
              "}\n",
              "\n",
              "/**\n",
              " * Generator function which is called between each async step of the upload\n",
              " * process.\n",
              " * @param {string} inputId Element ID of the input file picker element.\n",
              " * @param {string} outputId Element ID of the output display.\n",
              " * @return {!Iterable<!Object>} Iterable of next steps.\n",
              " */\n",
              "function* uploadFilesStep(inputId, outputId) {\n",
              "  const inputElement = document.getElementById(inputId);\n",
              "  inputElement.disabled = false;\n",
              "\n",
              "  const outputElement = document.getElementById(outputId);\n",
              "  outputElement.innerHTML = '';\n",
              "\n",
              "  const pickedPromise = new Promise((resolve) => {\n",
              "    inputElement.addEventListener('change', (e) => {\n",
              "      resolve(e.target.files);\n",
              "    });\n",
              "  });\n",
              "\n",
              "  const cancel = document.createElement('button');\n",
              "  inputElement.parentElement.appendChild(cancel);\n",
              "  cancel.textContent = 'Cancel upload';\n",
              "  const cancelPromise = new Promise((resolve) => {\n",
              "    cancel.onclick = () => {\n",
              "      resolve(null);\n",
              "    };\n",
              "  });\n",
              "\n",
              "  // Wait for the user to pick the files.\n",
              "  const files = yield {\n",
              "    promise: Promise.race([pickedPromise, cancelPromise]),\n",
              "    response: {\n",
              "      action: 'starting',\n",
              "    }\n",
              "  };\n",
              "\n",
              "  cancel.remove();\n",
              "\n",
              "  // Disable the input element since further picks are not allowed.\n",
              "  inputElement.disabled = true;\n",
              "\n",
              "  if (!files) {\n",
              "    return {\n",
              "      response: {\n",
              "        action: 'complete',\n",
              "      }\n",
              "    };\n",
              "  }\n",
              "\n",
              "  for (const file of files) {\n",
              "    const li = document.createElement('li');\n",
              "    li.append(span(file.name, {fontWeight: 'bold'}));\n",
              "    li.append(span(\n",
              "        `(${file.type || 'n/a'}) - ${file.size} bytes, ` +\n",
              "        `last modified: ${\n",
              "            file.lastModifiedDate ? file.lastModifiedDate.toLocaleDateString() :\n",
              "                                    'n/a'} - `));\n",
              "    const percent = span('0% done');\n",
              "    li.appendChild(percent);\n",
              "\n",
              "    outputElement.appendChild(li);\n",
              "\n",
              "    const fileDataPromise = new Promise((resolve) => {\n",
              "      const reader = new FileReader();\n",
              "      reader.onload = (e) => {\n",
              "        resolve(e.target.result);\n",
              "      };\n",
              "      reader.readAsArrayBuffer(file);\n",
              "    });\n",
              "    // Wait for the data to be ready.\n",
              "    let fileData = yield {\n",
              "      promise: fileDataPromise,\n",
              "      response: {\n",
              "        action: 'continue',\n",
              "      }\n",
              "    };\n",
              "\n",
              "    // Use a chunked sending to avoid message size limits. See b/62115660.\n",
              "    let position = 0;\n",
              "    do {\n",
              "      const length = Math.min(fileData.byteLength - position, MAX_PAYLOAD_SIZE);\n",
              "      const chunk = new Uint8Array(fileData, position, length);\n",
              "      position += length;\n",
              "\n",
              "      const base64 = btoa(String.fromCharCode.apply(null, chunk));\n",
              "      yield {\n",
              "        response: {\n",
              "          action: 'append',\n",
              "          file: file.name,\n",
              "          data: base64,\n",
              "        },\n",
              "      };\n",
              "\n",
              "      let percentDone = fileData.byteLength === 0 ?\n",
              "          100 :\n",
              "          Math.round((position / fileData.byteLength) * 100);\n",
              "      percent.textContent = `${percentDone}% done`;\n",
              "\n",
              "    } while (position < fileData.byteLength);\n",
              "  }\n",
              "\n",
              "  // All done.\n",
              "  yield {\n",
              "    response: {\n",
              "      action: 'complete',\n",
              "    }\n",
              "  };\n",
              "}\n",
              "\n",
              "scope.google = scope.google || {};\n",
              "scope.google.colab = scope.google.colab || {};\n",
              "scope.google.colab._files = {\n",
              "  _uploadFiles,\n",
              "  _uploadFilesContinue,\n",
              "};\n",
              "})(self);\n",
              "</script> "
            ]
          },
          "metadata": {}
        },
        {
          "output_type": "stream",
          "name": "stdout",
          "text": [
            "Saving 1.jpg to 1.jpg\n",
            "1/1 [==============================] - 2s 2s/step\n"
          ]
        },
        {
          "output_type": "display_data",
          "data": {
            "text/plain": [
              "<Figure size 640x480 with 1 Axes>"
            ],
            "image/png": "[encoded data removed]"
          },
          "metadata": {}
        }
      ],
      "source": [
        "model=tf.keras.models.load_model('/content/drive/MyDrive/inceptionv3_model.h5')\n",
        "\n",
        "class_labels = {0: 'ALL_MOTOR_VEHICLE_PROHIBITED', 1: 'AXLE_LOAD_LIMIT', 2: 'BARRIER_AHEAD', 3: 'BULLOCK_AND_HANDCART_PROHIBITED', 4: 'Dragonfly', 5: 'CATTLE',\n",
        "              6: 'COMPULSARY_AHEAD', 7: 'COMPULSARY_AHEAD_OR_TURN_LEFT', 8: 'COMPULSARY_AHEAD_OR_TURN_RIGHT', 9: 'COMPULSARY_CYCLE_TRACK',10: 'COMPULSARY_KEEP_RIGHT',11: 'COMPULSARY_KEEP_RIGHT',12: 'COMPULSARY_MINIMUM_SPEED',13: 'COMPULSARY_SOUND_HORN',14: 'COMPULSARY_TURN_LEFT',\n",
        "             15: 'COMPULSARY_TURN_LEFT_AHEAD',16: 'COMPULSARY_TURN_RIGHT',17: 'COMPULSARY_TURN_RIGHT_AHEAD',18: 'CROSS_ROAD',19: 'CYCLE_CROSSING',20: 'CYCLE_PROHIBITED',21: 'DANGEROUS_DIP',\n",
        "             22: 'DIRECTION',23: 'FALLING_ROCKS',24: 'FERRY',25: 'GAP_IN_MEDIAN',26: 'GIVE_WAY',27: 'GUARDED_LEVEL_CROSSING',28: 'HANDCART_PROHIBITED',\n",
        "             29: 'HEIGHT_LIMIT',30: 'HORN_PROHIBITED',31: 'HUMP_OR_ROUGH_ROAD',32: 'LEFT_HAIR_PIN_BEND',33: 'LEFT_HAND_CURVE',34: 'LEFT_REVERSE_BEND',35: 'LEFT_TURN_PROHIBITED',\n",
        "             36: 'LENGTH_LIMIT',37: 'LOAD_LIMIT',38: 'LOOSE_GRAVEL',39: 'MEN_AT_WORK',40: 'NARROW_BRIDGE',41: 'NARROW_ROAD_AHEAD',42: 'NO_ENTRY',\n",
        "             43: 'NO_PARKING',44: 'NO_STOPPING_OR_STANDING',45: 'OVERTAKING_PROHIBITED',46: 'PASS_EITHER_SIDE',47: 'PEDESTRIAN_CROSSING',48: 'PEDESTRIAN_PROHIBITED',49: 'PRIORITY_FOR_ONCOMING_VEHICLES',\n",
        "             50: 'QUAY_SIDE_OR_RIVER_BANK',51: 'RESTRICTION_ENDS',52: 'RIGHT_HAIR_PIN_BEND',53: 'RIGHT_HAND_CURVE',54: 'RIGHT_REVERSE_BEND',55: 'RIGHT_TURN_PROHIBITED',56: 'ROAD_WIDENS_AHEAD',\n",
        "             57: 'ROUNDABOUT',58: 'SCHOOL_AHEAD',59: 'SIDE_ROAD_LEFT',60: 'SIDE_ROAD_RIGHT',61: 'SLIPPERY_ROAD',62: 'SPEED_LIMIT_15',63: 'SPEED_LIMIT_20',\n",
        "             64: 'SPEED_LIMIT_30',65: 'SPEED_LIMIT_40',66: 'SPEED_LIMIT_5',67: 'SPEED_LIMIT_50',68: 'SPEED_LIMIT_60',69: 'SPEED_LIMIT_70',70: 'SPEED_LIMIT_80',\n",
        "             71: 'STAGGERED_INTERSECTION',72: 'STEEP_ASCENT',73: 'STEEP_DESCENT',74: 'STOP',75: 'STRAIGHT_PROHIBITED',76: 'TONGA_PROHIBITED',77: 'TRAFFIC_SIGNAL',\n",
        "             78: 'TRUCK_PROHIBITED',79: 'TURN_RIGHT',80: 'T_INTERSECTION',81: 'UNGUARDED_LEVEL_CROSSING',82: 'U_TURN_PROHIBITED',83: 'WIDTH_LIMIT',84: 'Y_INTERSECTION',}\n",
        "def preprocess_image(image_path):\n",
        "  img=PIL.Image.open(image_path)\n",
        "  img=img.resize((299,299))\n",
        "  img=np.array(img)/255.0\n",
        "  img=np.expand_dims(img,axis=0)\n",
        "  return img\n",
        "\n",
        "def predict_sign(image_path):\n",
        "  processed_image=preprocess_image(image_path)\n",
        "  predictions=model.predict(processed_image)\n",
        "  predicted_label=class_labels[np.argmax(predictions)]\n",
        "  confidence=np.max(predictions)\n",
        "  return predicted_label,confidence\n",
        "\n",
        "from google.colab import files\n",
        "uploaded=files.upload()\n",
        "\n",
        "uploaded_file_path=list(uploaded.keys())[0]\n",
        "\n",
        "prediction,confidence=predict_sign(uploaded_file_path)\n",
        "\n",
        "img=PIL.Image.open(uploaded_file_path)\n",
        "plt.imshow(img)\n",
        "plt.axis('off')\n",
        "plt.title(f'Prediction:{prediction}\\nConfidence:{confidence:.2%}')\n",
        "plt.show()\n",
        "\n",
        "\n"
      ]
    },
    {
      "cell_type": "code",
      "source": [
        "!pip install gtts\n"
      ],
      "metadata": {
        "colab": {
          "base_uri": "https://localhost:8080/"
        },
        "id": "c_hU_siBSbmv",
        "outputId": "6170df4b-106f-4160-b807-c41fe53bfa38"
      },
      "execution_count": 12,
      "outputs": [
        {
          "output_type": "stream",
          "name": "stdout",
          "text": [
            "Collecting gtts\n",
            "  Downloading gTTS-2.5.1-py3-none-any.whl (29 kB)\n",
            "Requirement already satisfied: requests<3,>=2.27 in /usr/local/lib/python3.10/dist-packages (from gtts) (2.31.0)\n",
            "Requirement already satisfied: click<8.2,>=7.1 in /usr/local/lib/python3.10/dist-packages (from gtts) (8.1.7)\n",
            "Requirement already satisfied: charset-normalizer<4,>=2 in /usr/local/lib/python3.10/dist-packages (from requests<3,>=2.27->gtts) (3.3.2)\n",
            "Requirement already satisfied: idna<4,>=2.5 in /usr/local/lib/python3.10/dist-packages (from requests<3,>=2.27->gtts) (3.6)\n",
            "Requirement already satisfied: urllib3<3,>=1.21.1 in /usr/local/lib/python3.10/dist-packages (from requests<3,>=2.27->gtts) (2.0.7)\n",
            "Requirement already satisfied: certifi>=2017.4.17 in /usr/local/lib/python3.10/dist-packages (from requests<3,>=2.27->gtts) (2024.2.2)\n",
            "Installing collected packages: gtts\n",
            "Successfully installed gtts-2.5.1\n"
          ]
        }
      ]
    },
    {
      "cell_type": "code",
      "source": [
        "import numpy as np\n",
        "import PIL\n",
        "import matplotlib.pyplot as plt\n",
        "import tensorflow as tf\n",
        "from google.colab import files\n",
        "from gtts import gTTS\n",
        "import IPython.display as ipd\n",
        "\n",
        "# Load the model\n",
        "model = tf.keras.models.load_model('/content/drive/MyDrive/inceptionv3_model.h5')\n",
        "\n",
        "# Define class labels\n",
        "class_labels = {0: 'ALL MOTOR VEHICLE PROHIBITED', 1: 'AXLE LOAD LIMIT', 2: 'BARRIER AHEAD', 3: 'BULLOCK AND HANDCART PROHIBITED', 4: 'Dragonfly', 5: 'CATTLE',\n",
        "                6: 'COMPULSARY AHEAD', 7: 'COMPULSARY AHEAD OR TURN LEFT', 8: 'COMPULSARY AHEAD OR TURN RIGHT', 9: 'COMPULSARY CYCLE TRACK',10: 'COMPULSARY KEEP RIGHT',11: 'COMPULSARY KEEP RIGHT',12: 'COMPULSARY MINIMUM SPEED',13: 'COMPULSARY SOUND HORN',14: 'COMPULSARY TURN LEFT',\n",
        "                15: 'COMPULSARY TURN LEFT AHEAD',16: 'COMPULSARY TURN RIGHT',17: 'COMPULSARY TURN RIGHT AHEAD',18: 'CROSS ROAD',19: 'CYCLE CROSSING',20: 'CYCLE PROHIBITED',21: 'DANGEROUS DIP',\n",
        "                22: 'DIRECTION',23: 'FALLING ROCKS',24: 'FERRY',25: 'GAP IN MEDIAN',26: 'GIVE WAY',27: 'GUARDED LEVEL CROSSING',28: 'HANDCART PROHIBITED',\n",
        "                29: 'HEIGHT LIMIT',30: 'HORN PROHIBITED',31: 'HUMP OR ROUGH ROAD',32: 'LEFT HAIR PIN BEND',33: 'LEFT HAND CURVE',34: 'LEFT REVERSE BEND',35: 'LEFT TURN PROHIBITED',\n",
        "                36: 'LENGTH LIMIT',37: 'LOAD LIMIT',38: 'LOOSE GRAVEL',39: 'MEN AT WORK',40: 'NARROW BRIDGE',41: 'NARROW ROAD AHEAD',42: 'NO ENTRY',\n",
        "                43: 'NO PARKING',44: 'NO STOPPING OR STANDING',45: 'OVERTAKING PROHIBITED',46: 'PASS EITHER SIDE',47: 'PEDESTRIAN CROSSING',48: 'PEDESTRIAN PROHIBITED',49: 'PRIORITY FOR ONCOMING VEHICLES',\n",
        "                50: 'QUAY SIDE OR RIVER BANK',51: 'RESTRICTION ENDS',52: 'RIGHT HAIR PIN BEND',53: 'RIGHT HAND CURVE',54: 'RIGHT REVERSE BEND',55: 'RIGHT TURN PROHIBITED',56: 'ROAD WIDENS AHEAD',\n",
        "                57: 'ROUNDABOUT',58: 'SCHOOL AHEAD',59: 'SIDE ROAD LEFT',60: 'SIDE ROAD RIGHT',61: 'SLIPPERY ROAD',62: 'SPEED LIMIT 15',63: 'SPEED LIMIT 20',\n",
        "                64: 'SPEED LIMIT 30',65: 'SPEED LIMIT 40',66: 'SPEED LIMIT 5',67: 'SPEED LIMIT 50',68: 'SPEED LIMIT 60',69: 'SPEED LIMIT 70',70: 'SPEED LIMIT 80',\n",
        "                71: 'STAGGERED INTERSECTION',72: 'STEEP ASCENT',73: 'STEEP DESCENT',74: 'STOP',75: 'STRAIGHT PROHIBITED',76: 'TONGA PROHIBITED',77: 'TRAFFIC SIGNAL',\n",
        "                78: 'TRUCK PROHIBITED',79: 'TURN RIGHT',80: 'T INTERSECTION',81: 'UNGUARDED LEVEL CROSSING',82: 'U TURN PROHIBITED',83: 'WIDTH LIMIT',84: 'Y INTERSECTION'}\n",
        "\n",
        "# Function to preprocess the image\n",
        "def preprocess_image(image_path):\n",
        "    img = PIL.Image.open(image_path)\n",
        "    img = img.resize((299, 299))\n",
        "    img = np.array(img) / 255.0\n",
        "    img = np.expand_dims(img, axis=0)\n",
        "    return img\n",
        "\n",
        "# Function to predict the sign\n",
        "def predict_sign(image_path):\n",
        "    processed_image = preprocess_image(image_path)\n",
        "    predictions = model.predict(processed_image)\n",
        "    predicted_label = class_labels[np.argmax(predictions)]\n",
        "    confidence = np.max(predictions)\n",
        "    return predicted_label, confidence\n",
        "\n",
        "# Upload image\n",
        "uploaded = files.upload()\n",
        "uploaded_file_path = list(uploaded.keys())[0]\n",
        "\n",
        "# Make prediction\n",
        "prediction, confidence = predict_sign(uploaded_file_path)\n",
        "\n",
        "# Show image and prediction\n",
        "img = PIL.Image.open(uploaded_file_path)\n",
        "plt.imshow(img)\n",
        "plt.axis('off')\n",
        "plt.title(f'Prediction: {prediction}\\nConfidence: {confidence:.2%}')\n",
        "plt.show()\n",
        "\n",
        "# Convert prediction text to speech\n",
        "tts = gTTS(text=prediction, lang='en')\n",
        "tts.save(\"prediction.mp3\")\n",
        "ipd.Audio(\"prediction.mp3\", autoplay=True)\n"
      ],
      "metadata": {
        "colab": {
          "base_uri": "https://localhost:8080/",
          "height": 580
        },
        "id": "-c-snybbSWt9",
        "outputId": "eed95d01-8d97-4154-96ea-53f68f84ea47"
      },
      "execution_count": 14,
      "outputs": [
        {
          "output_type": "display_data",
          "data": {
            "text/plain": [
              "<IPython.core.display.HTML object>"
            ],
            "text/html": [
              "\n",
              "     <input type=\"file\" id=\"files-ec8c61a6-d34c-40f2-a153-cb908ca28408\" name=\"files[]\" multiple disabled\n",
              "        style=\"border:none\" />\n",
              "     <output id=\"result-ec8c61a6-d34c-40f2-a153-cb908ca28408\">\n",
              "      Upload widget is only available when the cell has been executed in the\n",
              "      current browser session. Please rerun this cell to enable.\n",
              "      </output>\n",
              "      <script>// Copyright 2017 Google LLC\n",
              "//\n",
              "// Licensed under the Apache License, Version 2.0 (the \"License\");\n",
              "// you may not use this file except in compliance with the License.\n",
              "// You may obtain a copy of the License at\n",
              "//\n",
              "//      http://www.apache.org/licenses/LICENSE-2.0\n",
              "//\n",
              "// Unless required by applicable law or agreed to in writing, software\n",
              "// distributed under the License is distributed on an \"AS IS\" BASIS,\n",
              "// WITHOUT WARRANTIES OR CONDITIONS OF ANY KIND, either express or implied.\n",
              "// See the License for the specific language governing permissions and\n",
              "// limitations under the License.\n",
              "\n",
              "/**\n",
              " * @fileoverview Helpers for google.colab Python module.\n",
              " */\n",
              "(function(scope) {\n",
              "function span(text, styleAttributes = {}) {\n",
              "  const element = document.createElement('span');\n",
              "  element.textContent = text;\n",
              "  for (const key of Object.keys(styleAttributes)) {\n",
              "    element.style[key] = styleAttributes[key];\n",
              "  }\n",
              "  return element;\n",
              "}\n",
              "\n",
              "// Max number of bytes which will be uploaded at a time.\n",
              "const MAX_PAYLOAD_SIZE = 100 * 1024;\n",
              "\n",
              "function _uploadFiles(inputId, outputId) {\n",
              "  const steps = uploadFilesStep(inputId, outputId);\n",
              "  const outputElement = document.getElementById(outputId);\n",
              "  // Cache steps on the outputElement to make it available for the next call\n",
              "  // to uploadFilesContinue from Python.\n",
              "  outputElement.steps = steps;\n",
              "\n",
              "  return _uploadFilesContinue(outputId);\n",
              "}\n",
              "\n",
              "// This is roughly an async generator (not supported in the browser yet),\n",
              "// where there are multiple asynchronous steps and the Python side is going\n",
              "// to poll for completion of each step.\n",
              "// This uses a Promise to block the python side on completion of each step,\n",
              "// then passes the result of the previous step as the input to the next step.\n",
              "function _uploadFilesContinue(outputId) {\n",
              "  const outputElement = document.getElementById(outputId);\n",
              "  const steps = outputElement.steps;\n",
              "\n",
              "  const next = steps.next(outputElement.lastPromiseValue);\n",
              "  return Promise.resolve(next.value.promise).then((value) => {\n",
              "    // Cache the last promise value to make it available to the next\n",
              "    // step of the generator.\n",
              "    outputElement.lastPromiseValue = value;\n",
              "    return next.value.response;\n",
              "  });\n",
              "}\n",
              "\n",
              "/**\n",
              " * Generator function which is called between each async step of the upload\n",
              " * process.\n",
              " * @param {string} inputId Element ID of the input file picker element.\n",
              " * @param {string} outputId Element ID of the output display.\n",
              " * @return {!Iterable<!Object>} Iterable of next steps.\n",
              " */\n",
              "function* uploadFilesStep(inputId, outputId) {\n",
              "  const inputElement = document.getElementById(inputId);\n",
              "  inputElement.disabled = false;\n",
              "\n",
              "  const outputElement = document.getElementById(outputId);\n",
              "  outputElement.innerHTML = '';\n",
              "\n",
              "  const pickedPromise = new Promise((resolve) => {\n",
              "    inputElement.addEventListener('change', (e) => {\n",
              "      resolve(e.target.files);\n",
              "    });\n",
              "  });\n",
              "\n",
              "  const cancel = document.createElement('button');\n",
              "  inputElement.parentElement.appendChild(cancel);\n",
              "  cancel.textContent = 'Cancel upload';\n",
              "  const cancelPromise = new Promise((resolve) => {\n",
              "    cancel.onclick = () => {\n",
              "      resolve(null);\n",
              "    };\n",
              "  });\n",
              "\n",
              "  // Wait for the user to pick the files.\n",
              "  const files = yield {\n",
              "    promise: Promise.race([pickedPromise, cancelPromise]),\n",
              "    response: {\n",
              "      action: 'starting',\n",
              "    }\n",
              "  };\n",
              "\n",
              "  cancel.remove();\n",
              "\n",
              "  // Disable the input element since further picks are not allowed.\n",
              "  inputElement.disabled = true;\n",
              "\n",
              "  if (!files) {\n",
              "    return {\n",
              "      response: {\n",
              "        action: 'complete',\n",
              "      }\n",
              "    };\n",
              "  }\n",
              "\n",
              "  for (const file of files) {\n",
              "    const li = document.createElement('li');\n",
              "    li.append(span(file.name, {fontWeight: 'bold'}));\n",
              "    li.append(span(\n",
              "        `(${file.type || 'n/a'}) - ${file.size} bytes, ` +\n",
              "        `last modified: ${\n",
              "            file.lastModifiedDate ? file.lastModifiedDate.toLocaleDateString() :\n",
              "                                    'n/a'} - `));\n",
              "    const percent = span('0% done');\n",
              "    li.appendChild(percent);\n",
              "\n",
              "    outputElement.appendChild(li);\n",
              "\n",
              "    const fileDataPromise = new Promise((resolve) => {\n",
              "      const reader = new FileReader();\n",
              "      reader.onload = (e) => {\n",
              "        resolve(e.target.result);\n",
              "      };\n",
              "      reader.readAsArrayBuffer(file);\n",
              "    });\n",
              "    // Wait for the data to be ready.\n",
              "    let fileData = yield {\n",
              "      promise: fileDataPromise,\n",
              "      response: {\n",
              "        action: 'continue',\n",
              "      }\n",
              "    };\n",
              "\n",
              "    // Use a chunked sending to avoid message size limits. See b/62115660.\n",
              "    let position = 0;\n",
              "    do {\n",
              "      const length = Math.min(fileData.byteLength - position, MAX_PAYLOAD_SIZE);\n",
              "      const chunk = new Uint8Array(fileData, position, length);\n",
              "      position += length;\n",
              "\n",
              "      const base64 = btoa(String.fromCharCode.apply(null, chunk));\n",
              "      yield {\n",
              "        response: {\n",
              "          action: 'append',\n",
              "          file: file.name,\n",
              "          data: base64,\n",
              "        },\n",
              "      };\n",
              "\n",
              "      let percentDone = fileData.byteLength === 0 ?\n",
              "          100 :\n",
              "          Math.round((position / fileData.byteLength) * 100);\n",
              "      percent.textContent = `${percentDone}% done`;\n",
              "\n",
              "    } while (position < fileData.byteLength);\n",
              "  }\n",
              "\n",
              "  // All done.\n",
              "  yield {\n",
              "    response: {\n",
              "      action: 'complete',\n",
              "    }\n",
              "  };\n",
              "}\n",
              "\n",
              "scope.google = scope.google || {};\n",
              "scope.google.colab = scope.google.colab || {};\n",
              "scope.google.colab._files = {\n",
              "  _uploadFiles,\n",
              "  _uploadFilesContinue,\n",
              "};\n",
              "})(self);\n",
              "</script> "
            ]
          },
          "metadata": {}
        },
        {
          "output_type": "stream",
          "name": "stdout",
          "text": [
            "Saving 81040.jpg to 81040.jpg\n",
            "1/1 [==============================] - 2s 2s/step\n"
          ]
        },
        {
          "output_type": "display_data",
          "data": {
            "text/plain": [
              "<Figure size 640x480 with 1 Axes>"
            ],
            "image/png": "[encoded data removed]"
          },
          "metadata": {}
        },
        {
          "output_type": "execute_result",
          "data": {
            "text/plain": [
              "<IPython.lib.display.Audio object>"
            ],
            "text/html": [
              "\n",
              "                <audio  controls=\"controls\" autoplay=\"autoplay\">\n",
              "                    <source src=\"data:audio/mpeg;base64,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\" type=\"audio/mpeg\" />\n",
              "                    Your browser does not support the audio element.\n",
              "                </audio>\n",
              "              "
            ]
          },
          "metadata": {},
          "execution_count": 14
        }
      ]
    }
  ],
  "metadata": {
    "colab": {
      "provenance": [],
      "gpuType": "T4",
      "authorship_tag": "ABX9TyOEZmsfBwXCqQJxACV3ilHS",
      "include_colab_link": true
    },
    "kernelspec": {
      "display_name": "Python 3",
      "name": "python3"
    },
    "language_info": {
      "name": "python"
    },
    "accelerator": "GPU"
  },
  "nbformat": 4,
  "nbformat_minor": 0
}